{
 "cells": [
  {
   "cell_type": "code",
   "execution_count": 1,
   "metadata": {},
   "outputs": [],
   "source": [
    "import pandas as pd\n",
    "import numpy as np\n",
    "import random\n",
    "import sys\n",
    "import matplotlib.pyplot as plt\n",
    "from scipy import stats"
   ]
  },
  {
   "cell_type": "markdown",
   "metadata": {},
   "source": [
    "### Define os parâmetros de entrada para o Grupo 12"
   ]
  },
  {
   "cell_type": "code",
   "execution_count": 2,
   "metadata": {},
   "outputs": [],
   "source": [
    "rep_cycle_hengelson = [7,2,7,7,7,2,2,5,6,5,6,5,6,1,6,4,3,4,3,4]\n",
    "rep_cycle_tgs = [7,6,4,5,2,2,3,7,6,4,5,1,7,6,4,3,2,5,7,6]\n",
    "rep_cycle_own = [7,6,4,5,7,2,6,5,4,7,2,6,3,4,1,5,7,2,6,3]\n",
    "\n",
    "rep_cycle_full = 2*rep_cycle_hengelson\n",
    "\n",
    "data = {0:[718, 723.5, 662.6, 701.7, 714.2, 748.3, 655.1],\n",
    "        1:[591, 546.7, 540, 603.6, 522.7, 609.1, 580.3], \n",
    "        2:[741, 745.5, 699.7, 766.5, 753.3, 590.1, 714.8], \n",
    "        3:[769, 702.1, 644.6, 783.7, 756.3, 682.4, 730.2], \n",
    "        4:[748, 746.1, 709.5, 789.6, 648.1, 692.5, 730.9]}\n",
    "\n",
    "dados = pd.DataFrame(data=data, index=[1,2,3,4,5,6,7])"
   ]
  },
  {
   "cell_type": "code",
   "execution_count": 3,
   "metadata": {},
   "outputs": [],
   "source": [
    "arrays = [range(len(rep_cycle_full)), ['Inicio', 'Fim']]\n",
    "index = pd.MultiIndex.from_product(arrays, names=['Pos', 'state'])\n",
    "df = pd.DataFrame(index=range(5), columns=index)"
   ]
  },
  {
   "cell_type": "markdown",
   "metadata": {},
   "source": [
    "### Define a função que cálcula o Gannt para determinada sequência de produtos a serem produzidos"
   ]
  },
  {
   "cell_type": "code",
   "execution_count": 4,
   "metadata": {},
   "outputs": [],
   "source": [
    "def gen_gannt(seq):\n",
    "    rep_cycle_full = seq*2\n",
    "    stations_list = range(5)\n",
    "    \n",
    "    arrays = [range(len(rep_cycle_full)), ['Inicio', 'Fim']]\n",
    "    index = pd.MultiIndex.from_product(arrays, names=['Pos', 'state'])\n",
    "    df = pd.DataFrame(index=range(5), columns=index)\n",
    "    \n",
    "    for station in stations_list:\n",
    "        if station == 0:\n",
    "            for i,j in enumerate(rep_cycle_full):\n",
    "                if i == 0:\n",
    "                    df.loc[station, (i, 'Inicio')] = 0\n",
    "                    df.loc[station, (i, 'Fim')] = dados.loc[j, station]\n",
    "                else:\n",
    "                    df.loc[0, (i, 'Inicio')] = df.loc[0, (i-1, 'Fim')]\n",
    "                    df.loc[0, (i, 'Fim')] = df.loc[0, (i, 'Inicio')] + dados.loc[j, station]\n",
    "        else:\n",
    "            for i,j in enumerate(rep_cycle_full):\n",
    "                if i == 0:\n",
    "                    df.loc[station, (i, 'Inicio')] = df.loc[station-1, (i, 'Fim')]\n",
    "                    df.loc[station, (i, 'Fim')] = df.loc[station, (i, 'Inicio')] + dados.loc[j, station]\n",
    "                else:\n",
    "                    df.loc[station, (i, 'Inicio')] = max([df.loc[station-1, (i, 'Fim')],df.loc[station, (i-1, 'Fim')]])\n",
    "                    df.loc[station, (i, 'Fim')] = df.loc[station, (i, 'Inicio')] + dados.loc[j, station]\n",
    "\n",
    "    return df"
   ]
  },
  {
   "cell_type": "markdown",
   "metadata": {},
   "source": [
    "### Gera 1000 sequências aleatórias considerando as demandas de cada produto\n",
    "Créditos: Grupo10"
   ]
  },
  {
   "cell_type": "code",
   "execution_count": 5,
   "metadata": {
    "scrolled": true
   },
   "outputs": [],
   "source": [
    "tarefasOrder = []\n",
    "possibleNumbers = []\n",
    "\n",
    "for i in range (0,1000):  \n",
    "    partial_list = []\n",
    "    l1 = 1\n",
    "    l2 = 3\n",
    "    l3 = 2\n",
    "    l4 = 3\n",
    "    l5 = 3\n",
    "    l6 = 4\n",
    "    l7 = 4\n",
    "    nextNumber = ''\n",
    "    for j in range (0,20):\n",
    "        possibleNumbers = []\n",
    "        if l1>=1:\n",
    "            possibleNumbers.append(1)\n",
    "        if l2>=1:\n",
    "            possibleNumbers.append(2)\n",
    "        if l3>=1:\n",
    "            possibleNumbers.append(3)\n",
    "        if l4>=1:\n",
    "            possibleNumbers.append(4)\n",
    "        if l5>=1:\n",
    "            possibleNumbers.append(5)\n",
    "        if l6>=1:\n",
    "            possibleNumbers.append(6)\n",
    "        if l7>=1:\n",
    "            possibleNumbers.append(7)\n",
    "\n",
    "        nextNumber = random.choice(possibleNumbers)\n",
    "\n",
    "        if(nextNumber==1):\n",
    "            l1=l1-1\n",
    "        if(nextNumber==2):\n",
    "            l2=l2-1\n",
    "        if(nextNumber==3):\n",
    "            l3=l3-1\n",
    "        if(nextNumber==4):\n",
    "            l4=l4-1\n",
    "        if(nextNumber==5):\n",
    "            l5=l5-1\n",
    "        if(nextNumber==6):\n",
    "            l6=l6-1\n",
    "        if(nextNumber==7):\n",
    "            l7=l7-1\n",
    "        partial_list.append(nextNumber)\n",
    "    tarefasOrder.append(partial_list)\n",
    "\n",
    "#     print(tarefasOrder)\n",
    "#     tarefasOrder.clear()"
   ]
  },
  {
   "cell_type": "code",
   "execution_count": 6,
   "metadata": {
    "scrolled": true
   },
   "outputs": [],
   "source": [
    "dic = {}\n",
    "for i,j in enumerate(tarefasOrder):\n",
    "    dic[i] = (gen_gannt(j),j)"
   ]
  },
  {
   "cell_type": "markdown",
   "metadata": {},
   "source": [
    "### Gannt gerado para uma das sequências aleatórias"
   ]
  },
  {
   "cell_type": "code",
   "execution_count": 7,
   "metadata": {
    "scrolled": true
   },
   "outputs": [
    {
     "data": {
      "text/html": [
       "<div>\n",
       "<style scoped>\n",
       "    .dataframe tbody tr th:only-of-type {\n",
       "        vertical-align: middle;\n",
       "    }\n",
       "\n",
       "    .dataframe tbody tr th {\n",
       "        vertical-align: top;\n",
       "    }\n",
       "\n",
       "    .dataframe thead tr th {\n",
       "        text-align: left;\n",
       "    }\n",
       "</style>\n",
       "<table border=\"1\" class=\"dataframe\">\n",
       "  <thead>\n",
       "    <tr>\n",
       "      <th>Pos</th>\n",
       "      <th colspan=\"2\" halign=\"left\">0</th>\n",
       "      <th colspan=\"2\" halign=\"left\">1</th>\n",
       "      <th colspan=\"2\" halign=\"left\">2</th>\n",
       "      <th colspan=\"2\" halign=\"left\">3</th>\n",
       "      <th colspan=\"2\" halign=\"left\">4</th>\n",
       "      <th>...</th>\n",
       "      <th colspan=\"2\" halign=\"left\">35</th>\n",
       "      <th colspan=\"2\" halign=\"left\">36</th>\n",
       "      <th colspan=\"2\" halign=\"left\">37</th>\n",
       "      <th colspan=\"2\" halign=\"left\">38</th>\n",
       "      <th colspan=\"2\" halign=\"left\">39</th>\n",
       "    </tr>\n",
       "    <tr>\n",
       "      <th>state</th>\n",
       "      <th>Inicio</th>\n",
       "      <th>Fim</th>\n",
       "      <th>Inicio</th>\n",
       "      <th>Fim</th>\n",
       "      <th>Inicio</th>\n",
       "      <th>Fim</th>\n",
       "      <th>Inicio</th>\n",
       "      <th>Fim</th>\n",
       "      <th>Inicio</th>\n",
       "      <th>Fim</th>\n",
       "      <th>...</th>\n",
       "      <th>Inicio</th>\n",
       "      <th>Fim</th>\n",
       "      <th>Inicio</th>\n",
       "      <th>Fim</th>\n",
       "      <th>Inicio</th>\n",
       "      <th>Fim</th>\n",
       "      <th>Inicio</th>\n",
       "      <th>Fim</th>\n",
       "      <th>Inicio</th>\n",
       "      <th>Fim</th>\n",
       "    </tr>\n",
       "  </thead>\n",
       "  <tbody>\n",
       "    <tr>\n",
       "      <th>0</th>\n",
       "      <td>0</td>\n",
       "      <td>662.6</td>\n",
       "      <td>662.6</td>\n",
       "      <td>1386.1</td>\n",
       "      <td>1386.1</td>\n",
       "      <td>2100.3</td>\n",
       "      <td>2100.3</td>\n",
       "      <td>2814.5</td>\n",
       "      <td>2814.5</td>\n",
       "      <td>3516.2</td>\n",
       "      <td>...</td>\n",
       "      <td>24594.9</td>\n",
       "      <td>25343.2</td>\n",
       "      <td>25343.2</td>\n",
       "      <td>25998.3</td>\n",
       "      <td>25998.3</td>\n",
       "      <td>26653.4</td>\n",
       "      <td>26653.4</td>\n",
       "      <td>27401.7</td>\n",
       "      <td>27401.7</td>\n",
       "      <td>28150</td>\n",
       "    </tr>\n",
       "    <tr>\n",
       "      <th>1</th>\n",
       "      <td>662.6</td>\n",
       "      <td>1202.6</td>\n",
       "      <td>1386.1</td>\n",
       "      <td>1932.8</td>\n",
       "      <td>2100.3</td>\n",
       "      <td>2623</td>\n",
       "      <td>2814.5</td>\n",
       "      <td>3337.2</td>\n",
       "      <td>3516.2</td>\n",
       "      <td>4119.8</td>\n",
       "      <td>...</td>\n",
       "      <td>25343.2</td>\n",
       "      <td>25952.3</td>\n",
       "      <td>25998.3</td>\n",
       "      <td>26578.6</td>\n",
       "      <td>26653.4</td>\n",
       "      <td>27233.7</td>\n",
       "      <td>27401.7</td>\n",
       "      <td>28010.8</td>\n",
       "      <td>28150</td>\n",
       "      <td>28759.1</td>\n",
       "    </tr>\n",
       "    <tr>\n",
       "      <th>2</th>\n",
       "      <td>1202.6</td>\n",
       "      <td>1902.3</td>\n",
       "      <td>1932.8</td>\n",
       "      <td>2678.3</td>\n",
       "      <td>2678.3</td>\n",
       "      <td>3431.6</td>\n",
       "      <td>3431.6</td>\n",
       "      <td>4184.9</td>\n",
       "      <td>4184.9</td>\n",
       "      <td>4951.4</td>\n",
       "      <td>...</td>\n",
       "      <td>26345</td>\n",
       "      <td>26935.1</td>\n",
       "      <td>26935.1</td>\n",
       "      <td>27649.9</td>\n",
       "      <td>27649.9</td>\n",
       "      <td>28364.7</td>\n",
       "      <td>28364.7</td>\n",
       "      <td>28954.8</td>\n",
       "      <td>28954.8</td>\n",
       "      <td>29544.9</td>\n",
       "    </tr>\n",
       "    <tr>\n",
       "      <th>3</th>\n",
       "      <td>1902.3</td>\n",
       "      <td>2546.9</td>\n",
       "      <td>2678.3</td>\n",
       "      <td>3380.4</td>\n",
       "      <td>3431.6</td>\n",
       "      <td>4187.9</td>\n",
       "      <td>4187.9</td>\n",
       "      <td>4944.2</td>\n",
       "      <td>4951.4</td>\n",
       "      <td>5735.1</td>\n",
       "      <td>...</td>\n",
       "      <td>27475</td>\n",
       "      <td>28157.4</td>\n",
       "      <td>28157.4</td>\n",
       "      <td>28887.6</td>\n",
       "      <td>28887.6</td>\n",
       "      <td>29617.8</td>\n",
       "      <td>29617.8</td>\n",
       "      <td>30300.2</td>\n",
       "      <td>30300.2</td>\n",
       "      <td>30982.6</td>\n",
       "    </tr>\n",
       "    <tr>\n",
       "      <th>4</th>\n",
       "      <td>2546.9</td>\n",
       "      <td>3256.4</td>\n",
       "      <td>3380.4</td>\n",
       "      <td>4126.5</td>\n",
       "      <td>4187.9</td>\n",
       "      <td>4836</td>\n",
       "      <td>4944.2</td>\n",
       "      <td>5592.3</td>\n",
       "      <td>5735.1</td>\n",
       "      <td>6524.7</td>\n",
       "      <td>...</td>\n",
       "      <td>28321.8</td>\n",
       "      <td>29014.3</td>\n",
       "      <td>29014.3</td>\n",
       "      <td>29745.2</td>\n",
       "      <td>29745.2</td>\n",
       "      <td>30476.1</td>\n",
       "      <td>30476.1</td>\n",
       "      <td>31168.6</td>\n",
       "      <td>31168.6</td>\n",
       "      <td>31861.1</td>\n",
       "    </tr>\n",
       "  </tbody>\n",
       "</table>\n",
       "<p>5 rows × 80 columns</p>\n",
       "</div>"
      ],
      "text/plain": [
       "Pos        0               1               2               3               4   \\\n",
       "state  Inicio     Fim  Inicio     Fim  Inicio     Fim  Inicio     Fim  Inicio   \n",
       "0           0   662.6   662.6  1386.1  1386.1  2100.3  2100.3  2814.5  2814.5   \n",
       "1       662.6  1202.6  1386.1  1932.8  2100.3    2623  2814.5  3337.2  3516.2   \n",
       "2      1202.6  1902.3  1932.8  2678.3  2678.3  3431.6  3431.6  4184.9  4184.9   \n",
       "3      1902.3  2546.9  2678.3  3380.4  3431.6  4187.9  4187.9  4944.2  4951.4   \n",
       "4      2546.9  3256.4  3380.4  4126.5  4187.9    4836  4944.2  5592.3  5735.1   \n",
       "\n",
       "Pos            ...       35                36                37           \\\n",
       "state     Fim  ...   Inicio      Fim   Inicio      Fim   Inicio      Fim   \n",
       "0      3516.2  ...  24594.9  25343.2  25343.2  25998.3  25998.3  26653.4   \n",
       "1      4119.8  ...  25343.2  25952.3  25998.3  26578.6  26653.4  27233.7   \n",
       "2      4951.4  ...    26345  26935.1  26935.1  27649.9  27649.9  28364.7   \n",
       "3      5735.1  ...    27475  28157.4  28157.4  28887.6  28887.6  29617.8   \n",
       "4      6524.7  ...  28321.8  29014.3  29014.3  29745.2  29745.2  30476.1   \n",
       "\n",
       "Pos         38                39           \n",
       "state   Inicio      Fim   Inicio      Fim  \n",
       "0      26653.4  27401.7  27401.7    28150  \n",
       "1      27401.7  28010.8    28150  28759.1  \n",
       "2      28364.7  28954.8  28954.8  29544.9  \n",
       "3      29617.8  30300.2  30300.2  30982.6  \n",
       "4      30476.1  31168.6  31168.6  31861.1  \n",
       "\n",
       "[5 rows x 80 columns]"
      ]
     },
     "execution_count": 7,
     "metadata": {},
     "output_type": "execute_result"
    }
   ],
   "source": [
    "dic[750][0]"
   ]
  },
  {
   "cell_type": "markdown",
   "metadata": {},
   "source": [
    "### Define a função para a métrica e calcula-a para os itens a), b), d) e para as 1000 sequências aleatórias\n",
    "\n",
    "Métrica: $k = \\frac{tempo\\;total\\;real}{tempo\\;total\\;ideal} - 1 = \\frac{tempo\\;total\\;real}{40c}-1$\n",
    "\n",
    "sendo:\n",
    "    1. Tempo total real - Tempo necessário para produzir 40 unidades considerando ociosidades forçadas pelo desbalanceamento da linha\n",
    "    2. Tempo total ideal - Tempo necessário para produzir 40 unidades caso o tempo de ciclo da linha fosse seguido"
   ]
  },
  {
   "cell_type": "code",
   "execution_count": 8,
   "metadata": {},
   "outputs": [],
   "source": [
    "def calc_metric(gannt):\n",
    "    ideal_full_cycle = 722*40\n",
    "    return (gannt.loc[4, (39, 'Fim')]/ideal_full_cycle)-1\n",
    "\n",
    "hengelson_metric = calc_metric(gen_gannt(rep_cycle_hengelson))\n",
    "tgs_metric = calc_metric(gen_gannt(rep_cycle_tgs))\n",
    "own_metric = calc_metric(gen_gannt(rep_cycle_own))\n",
    "work_metrics = [hengelson_metric, own_metric, tgs_metric]\n",
    "\n",
    "metrics = []\n",
    "for i in dic.keys():\n",
    "    metrics.append(calc_metric(dic[i][0]))\n",
    "\n",
    "full_metrics = metrics + work_metrics\n",
    "\n",
    "full_sorted_metrics = sorted(full_metrics)#.sorted()"
   ]
  },
  {
   "cell_type": "code",
   "execution_count": 9,
   "metadata": {},
   "outputs": [],
   "source": [
    "hengelson_index = full_metrics.index(hengelson_metric)\n",
    "tgs_index = full_metrics.index(tgs_metric)\n",
    "own_index = full_metrics.index(own_metric)"
   ]
  },
  {
   "cell_type": "code",
   "execution_count": 10,
   "metadata": {},
   "outputs": [
    {
     "data": {
      "text/plain": [
       "Text(0.5, 1.0, 'Métrica para os 1000 sequenciamentos aleatórios')"
      ]
     },
     "execution_count": 10,
     "metadata": {},
     "output_type": "execute_result"
    },
    {
     "data": {
      "image/png": "[encoded data removed]",
      "text/plain": [
       "<Figure size 432x288 with 1 Axes>"
      ]
     },
     "metadata": {
      "needs_background": "light"
     },
     "output_type": "display_data"
    }
   ],
   "source": [
    "fig1, ax1 = plt.subplots()\n",
    "ax1.plot(full_sorted_metrics,range(len(full_sorted_metrics)), 'x', label='Seq. aleatórios')\n",
    "ax1.plot(hengelson_metric,hengelson_index, 'x', label='Seq. Hengelson Birnie')\n",
    "ax1.plot(tgs_metric,tgs_index, 'x', label='Seq. TGS')\n",
    "ax1.plot(own_metric,own_index, 'x', label='Seq. Heurística própria')\n",
    "ax1.legend()\n",
    "plt.ylabel('Índice do sequenciamento')\n",
    "plt.xlabel('Métrica definida (menor é melhor)')\n",
    "plt.title('Métrica para os 1000 sequenciamentos aleatórios')"
   ]
  },
  {
   "cell_type": "code",
   "execution_count": 11,
   "metadata": {},
   "outputs": [
    {
     "data": {
      "text/plain": [
       "Text(0.5, 1.0, 'Distribuição de 1000 sequências')"
      ]
     },
     "execution_count": 11,
     "metadata": {},
     "output_type": "execute_result"
    },
    {
     "data": {
      "image/png": "[encoded data removed]",
      "text/plain": [
       "<Figure size 432x288 with 1 Axes>"
      ]
     },
     "metadata": {
      "needs_background": "light"
     },
     "output_type": "display_data"
    }
   ],
   "source": [
    "fig2, ax2 = plt.subplots()\n",
    "ax2.hist(metrics, bins=20)#, density=True)#, cumulative=True)\n",
    "plt.title('Distribuição de 1000 sequências')"
   ]
  },
  {
   "cell_type": "code",
   "execution_count": 12,
   "metadata": {},
   "outputs": [
    {
     "name": "stdout",
     "output_type": "stream",
     "text": [
      "DescribeResult(nobs=1003, minmax=(0.09359418282548448, 0.11719875346260378), mean=0.10226035536051122, variance=1.079570822290534e-05, skewness=0.30781685280606935, kurtosis=0.34812471009365353)\n"
     ]
    }
   ],
   "source": [
    "print(stats.describe(full_metrics))"
   ]
  }
 ],
 "metadata": {
  "kernelspec": {
   "display_name": "Python 3",
   "language": "python",
   "name": "python3"
  },
  "language_info": {
   "codemirror_mode": {
    "name": "ipython",
    "version": 3
   },
   "file_extension": ".py",
   "mimetype": "text/x-python",
   "name": "python",
   "nbconvert_exporter": "python",
   "pygments_lexer": "ipython3",
   "version": "3.6.10"
  }
 },
 "nbformat": 4,
 "nbformat_minor": 2
}
